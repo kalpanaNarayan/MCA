{
 "cells": [
  {
   "cell_type": "code",
   "execution_count": 15,
   "metadata": {},
   "outputs": [
    {
     "name": "stdout",
     "output_type": "stream",
     "text": [
      "this is class & obj\n",
      "sum: 30\n",
      "value: 10\n"
     ]
    }
   ],
   "source": [
    "class hello:\n",
    "    a=20\n",
    "    def fun1(self,a,b):\n",
    "        self.a=a\n",
    "        self.b=b\n",
    "        print(\"this is class & obj\")\n",
    "\n",
    "    def fun2(self):\n",
    "        c= self.a+self.b\n",
    "        print(\"sum:\",c)        \n",
    "\n",
    "obj=hello()\n",
    "obj.fun1(10,20) \n",
    "obj.fun2()\n",
    "val=obj.a\n",
    "print(\"value:\",val)"
   ]
  },
  {
   "cell_type": "code",
   "execution_count": 3,
   "metadata": {},
   "outputs": [
    {
     "ename": "TypeError",
     "evalue": "'str' object is not callable",
     "output_type": "error",
     "traceback": [
      "\u001b[1;31m---------------------------------------------------------------------------\u001b[0m",
      "\u001b[1;31mTypeError\u001b[0m                                 Traceback (most recent call last)",
      "Cell \u001b[1;32mIn[3], line 12\u001b[0m\n\u001b[0;32m     10\u001b[0m para\u001b[39m=\u001b[39m\u001b[39minput\u001b[39m(\u001b[39m\"\u001b[39m\u001b[39menter the para:\u001b[39m\u001b[39m\"\u001b[39m)  \n\u001b[0;32m     11\u001b[0m target_word\u001b[39m=\u001b[39m\u001b[39minput\u001b[39m(\u001b[39m\"\u001b[39m\u001b[39menter the word:\u001b[39m\u001b[39m\"\u001b[39m)\n\u001b[1;32m---> 12\u001b[0m counting\u001b[39m=\u001b[39mfun1(para,target_word)\n\u001b[0;32m     13\u001b[0m \u001b[39mprint\u001b[39m(\u001b[39mf\u001b[39m\u001b[39m\"\u001b[39m\u001b[39mthe word \u001b[39m\u001b[39m'\u001b[39m\u001b[39m{\u001b[39;00mtarget_word\u001b[39m}\u001b[39;00m\u001b[39m'\u001b[39m\u001b[39m appears \u001b[39m\u001b[39m'\u001b[39m\u001b[39m{\u001b[39;00mcounting\u001b[39m}\u001b[39;00m\u001b[39m'\u001b[39m\u001b[39mtimes\u001b[39m\u001b[39m\"\u001b[39m)\n\u001b[0;32m     14\u001b[0m para\u001b[39m=\u001b[39m\u001b[39minput\u001b[39m(\u001b[39m\"\u001b[39m\u001b[39mwrite:\u001b[39m\u001b[39m\"\u001b[39m)\n",
      "Cell \u001b[1;32mIn[3], line 6\u001b[0m, in \u001b[0;36mfun1\u001b[1;34m(para, target_word)\u001b[0m\n\u001b[0;32m      4\u001b[0m \u001b[39mfor\u001b[39;00m i \u001b[39min\u001b[39;00m words:\n\u001b[0;32m      5\u001b[0m     i\u001b[39m=\u001b[39mi\u001b[39m.\u001b[39mstrip(\u001b[39m\"\u001b[39m\u001b[39m@#$\u001b[39m\u001b[39m%\u001b[39m\u001b[39m^&!\u001b[39m\u001b[39m\"\u001b[39m)\n\u001b[1;32m----> 6\u001b[0m     \u001b[39mif\u001b[39;00m i\u001b[39m.\u001b[39mlower()\u001b[39m==\u001b[39mtarget_word():\n\u001b[0;32m      7\u001b[0m       count\u001b[39m+\u001b[39m\u001b[39m=\u001b[39m\u001b[39m1\u001b[39m\n\u001b[0;32m      9\u001b[0m \u001b[39mreturn\u001b[39;00m count\n",
      "\u001b[1;31mTypeError\u001b[0m: 'str' object is not callable"
     ]
    }
   ],
   "source": [
    "\n",
    "def fun1(para,target_word):\n",
    "    words=para.split(\" \")\n",
    "    count=0\n",
    "    for i in words:\n",
    "        i=i.strip(\"@#$%^&!\")\n",
    "        if i.lower()==target_word():\n",
    "          count+=1\n",
    "      \n",
    "    return count \n",
    "para=input(\"enter the para:\")  \n",
    "target_word=input(\"enter the word:\")\n",
    "counting=fun1(para,target_word)\n",
    "print(f\"the word '{target_word}' appears '{counting}'times\")\n",
    "\n",
    "      \n",
    "\n"
   ]
  }
 ],
 "metadata": {
  "kernelspec": {
   "display_name": "Python 3",
   "language": "python",
   "name": "python3"
  },
  "language_info": {
   "codemirror_mode": {
    "name": "ipython",
    "version": 3
   },
   "file_extension": ".py",
   "mimetype": "text/x-python",
   "name": "python",
   "nbconvert_exporter": "python",
   "pygments_lexer": "ipython3",
   "version": "3.12.0"
  },
  "orig_nbformat": 4
 },
 "nbformat": 4,
 "nbformat_minor": 2
}
