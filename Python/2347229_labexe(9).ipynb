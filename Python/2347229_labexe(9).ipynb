{
 "cells": [
  {
   "cell_type": "markdown",
   "metadata": {},
   "source": [
    "Q1. Write a program to distinguish between Array Indexing and Fancy Indexing."
   ]
  },
  {
   "cell_type": "code",
   "execution_count": 1,
   "metadata": {},
   "outputs": [
    {
     "name": "stdout",
     "output_type": "stream",
     "text": [
      "Array Indexing:\n",
      "1\n",
      "[2 3]\n",
      "\n",
      "Fancy Indexing:\n",
      "[1 3 4]\n"
     ]
    }
   ],
   "source": [
    "#Write a program to distinguish between Array Indexing and Fancy Indexing.\n",
    "import numpy as np\n",
    "\n",
    "# Array Indexing\n",
    "arr = np.array([1, 2, 3, 4, 5])\n",
    "print(\"Array Indexing:\")\n",
    "print(arr[0])\n",
    "print(arr[1:3])\n",
    "\n",
    "# Fancy Indexing\n",
    "print(\"\\nFancy Indexing:\")\n",
    "arr = np.array([1, 2, 3, 4, 5])\n",
    "indices = np.array([0, 2, 3])\n",
    "print(arr[indices])\n"
   ]
  },
  {
   "cell_type": "markdown",
   "metadata": {},
   "source": [
    "Q2. Execute the 2D array Slicing."
   ]
  },
  {
   "cell_type": "code",
   "execution_count": 2,
   "metadata": {},
   "outputs": [
    {
     "name": "stdout",
     "output_type": "stream",
     "text": [
      "First Two Rows and Columns:\n",
      " [[1 2]\n",
      " [5 6]]\n",
      "Last Two Rows and Columns:\n",
      " [[ 7  8]\n",
      " [11 12]]\n"
     ]
    }
   ],
   "source": [
    "#Execute the 2D array Slicing.\n",
    "import numpy as np\n",
    "\n",
    "# Create a 2D array\n",
    "arr = np.array([[1, 2, 3, 4], [5, 6, 7, 8], [9, 10, 11, 12]])\n",
    "\n",
    "# Slice the array to get the first two rows and columns\n",
    "subarray1 = arr[:2, :2]\n",
    "\n",
    "# Slice the array to get the last two rows and columns\n",
    "subarray2 = arr[1:, 2:]\n",
    "\n",
    "# Print the subarrays\n",
    "print(\"First Two Rows and Columns:\\n\", subarray1)\n",
    "print(\"Last Two Rows and Columns:\\n\", subarray2)"
   ]
  },
  {
   "cell_type": "markdown",
   "metadata": {},
   "source": [
    "Q3. Create the 5-Dimensional arrays using ‘ndmin’."
   ]
  },
  {
   "cell_type": "code",
   "execution_count": 3,
   "metadata": {},
   "outputs": [
    {
     "name": "stdout",
     "output_type": "stream",
     "text": [
      "Array:\n",
      " [[[[[1 2 3 4]]]]]\n",
      "Shape of Array: (1, 1, 1, 1, 4)\n"
     ]
    }
   ],
   "source": [
    "#5d array\n",
    "import numpy as np\n",
    "\n",
    "# Create a 5D array with ndmin\n",
    "arr = np.array([1, 2, 3, 4], ndmin=5)\n",
    "\n",
    "# Print the array and its shape\n",
    "print(\"Array:\\n\", arr)\n",
    "print(\"Shape of Array:\", arr.shape)"
   ]
  },
  {
   "cell_type": "markdown",
   "metadata": {},
   "source": [
    "Q4. Reshape the array from 1-D to 2-D array."
   ]
  },
  {
   "cell_type": "code",
   "execution_count": 4,
   "metadata": {},
   "outputs": [
    {
     "name": "stdout",
     "output_type": "stream",
     "text": [
      "Original Array:\n",
      " [1 2 3 4 5 6]\n",
      "Reshaped Array:\n",
      " [[1 2 3]\n",
      " [4 5 6]]\n"
     ]
    }
   ],
   "source": [
    "#Reshape the array from 1-D to 2-D array.\n",
    "import numpy as np\n",
    "\n",
    "# Create a 1D array\n",
    "arr = np.array([1, 2, 3, 4, 5, 6])\n",
    "\n",
    "# Reshape the array to a 2D array with 2 rows and 3 columns\n",
    "arr_2d = np.reshape(arr, (2, 3))\n",
    "\n",
    "# Print the original and reshaped arrays\n",
    "print(\"Original Array:\\n\", arr)\n",
    "print(\"Reshaped Array:\\n\", arr_2d)"
   ]
  },
  {
   "cell_type": "markdown",
   "metadata": {},
   "source": [
    "Q5. Perform the Stack functions in Numpy arrays – Stack(), hstack(), vstack(), and dstack()."
   ]
  },
  {
   "cell_type": "code",
   "execution_count": 5,
   "metadata": {},
   "outputs": [
    {
     "name": "stdout",
     "output_type": "stream",
     "text": [
      "Stack():\n",
      "[[[1 2]\n",
      "  [3 4]]\n",
      "\n",
      " [[5 6]\n",
      "  [7 8]]]\n",
      "\n",
      "hstack():\n",
      "[[1 2 5 6]\n",
      " [3 4 7 8]]\n",
      "\n",
      "vstack():\n",
      "[[1 2]\n",
      " [3 4]\n",
      " [5 6]\n",
      " [7 8]]\n",
      "\n",
      "dstack():\n",
      "[[[1 5]\n",
      "  [2 6]]\n",
      "\n",
      " [[3 7]\n",
      "  [4 8]]]\n"
     ]
    }
   ],
   "source": [
    "#Perform the Stack functions in Numpy arrays – Stack(), hstack(), vstack(), and dstack().\n",
    "import numpy as np\n",
    "\n",
    "# Create two 2D arrays\n",
    "arr1 = np.array([[1, 2], [3, 4]])\n",
    "arr2 = np.array([[5, 6], [7, 8]])\n",
    "\n",
    "# Stack them using stack()\n",
    "print(\"Stack():\")\n",
    "print(np.stack((arr1, arr2), axis=0))\n",
    "\n",
    "# Stack them using hstack()\n",
    "print(\"\\nhstack():\")\n",
    "print(np.hstack((arr1, arr2)))\n",
    "\n",
    "# Stack them using vstack()\n",
    "print(\"\\nvstack():\")\n",
    "print(np.vstack((arr1, arr2)))\n",
    "\n",
    "# Stack them using dstack()\n",
    "print(\"\\ndstack():\")\n",
    "print(np.dstack((arr1, arr2)))"
   ]
  },
  {
   "cell_type": "markdown",
   "metadata": {},
   "source": [
    "Q6. Perform the searchsort method in Numpy array."
   ]
  },
  {
   "cell_type": "code",
   "execution_count": 6,
   "metadata": {},
   "outputs": [
    {
     "name": "stdout",
     "output_type": "stream",
     "text": [
      "Index of 3: 2\n"
     ]
    }
   ],
   "source": [
    "#Perform the searchsort method in Numpy array.\n",
    "import numpy as np\n",
    "\n",
    "# Create a sorted array\n",
    "arr = np.array([1, 2, 3, 4, 5])\n",
    "\n",
    "# Find the index where 3 should be inserted\n",
    "index = np.searchsorted(arr, 3)\n",
    "\n",
    "# Print the index\n",
    "print(\"Index of 3:\", index)"
   ]
  },
  {
   "cell_type": "markdown",
   "metadata": {},
   "source": [
    "Q7. Create Numpy Structured array using your domain features."
   ]
  },
  {
   "cell_type": "code",
   "execution_count": 27,
   "metadata": {},
   "outputs": [
    {
     "name": "stdout",
     "output_type": "stream",
     "text": [
      "[('Emirates', 1425, 'London') ('Spicejet', 1730, 'bangalore')]\n"
     ]
    }
   ],
   "source": [
    "#Create Numpy Structured array using your domain features.\n",
    "#railways management system\n",
    "import numpy as np\n",
    "\n",
    "# Define the data types for the fields\n",
    "dt = np.dtype([('flightname', 'U10'), ('train-id', 'i4'), ('destination', 'U10')])\n",
    "\n",
    "# Create a structured array with 2 records\n",
    "arr = np.array([('Emirates', 1425, 'London'), ('Spicejet', 1730, 'bangalore')], dtype=dt)\n",
    "\n",
    "# Print the structured array\n",
    "print(arr)"
   ]
  },
  {
   "cell_type": "code",
   "execution_count": 12,
   "metadata": {},
   "outputs": [
    {
     "name": "stdout",
     "output_type": "stream",
     "text": [
      "      name  age gender\n",
      "0  kalpana   20      F\n",
      "1  likitha   30      F\n",
      "2   vikram   45      M\n"
     ]
    }
   ],
   "source": [
    "#Create Data frame using List and Dictionary.\n",
    "import pandas as pd\n",
    "\n",
    "# Define the data as a list of dictionaries\n",
    "data = [{'name': 'kalpana', 'age': 20, 'gender': 'F'},\n",
    "        {'name': 'likitha', 'age': 30, 'gender': 'F'},\n",
    "        {'name': 'vikram', 'age': 45, 'gender': 'M'}]\n",
    "\n",
    "# Create the DataFrame\n",
    "df = pd.DataFrame(data)\n",
    "\n",
    "# Print the DataFrame\n",
    "print(df)"
   ]
  },
  {
   "cell_type": "code",
   "execution_count": 14,
   "metadata": {},
   "outputs": [
    {
     "name": "stdout",
     "output_type": "stream",
     "text": [
      "Missing Values:\n",
      "    flight_no  flight_name  source  destination  departure_time  arrival_time\n",
      "0      False        False   False        False            True         False\n",
      "1      False        False   False        False           False          True\n",
      "2       True         True    True         True           False         False\n",
      "3      False        False   False        False           False         False\n",
      "\n",
      "Non-Missing Values:\n",
      "    flight_no  flight_name  source  destination  departure_time  arrival_time\n",
      "0       True         True    True         True           False          True\n",
      "1       True         True    True         True            True         False\n",
      "2      False        False   False        False            True          True\n",
      "3       True         True    True         True            True          True\n",
      "\n",
      "DataFrame after dropping rows with missing values:\n",
      "    flight_no flight_name   source destination departure_time arrival_time\n",
      "3        3.0     Vistara  Kolkata   Hyderabad          14:00        18:00\n",
      "\n",
      "DataFrame after filling missing values with 0:\n",
      "    flight_no flight_name   source destination departure_time arrival_time\n",
      "0        1.0    Emirates    Delhi     Chennai              0        08:00\n",
      "1        2.0      Indigo   Mumbai   Bangalore          10:00            0\n",
      "2        0.0           0        0           0          12:00        14:00\n",
      "3        3.0     Vistara  Kolkata   Hyderabad          14:00        18:00\n",
      "\n",
      "DataFrame after replacing missing values with -1:\n",
      "    flight_no flight_name   source destination departure_time arrival_time\n",
      "0        1.0    Emirates    Delhi     Chennai             -1        08:00\n",
      "1        2.0      Indigo   Mumbai   Bangalore          10:00           -1\n",
      "2       -1.0          -1       -1          -1          12:00        14:00\n",
      "3        3.0     Vistara  Kolkata   Hyderabad          14:00        18:00\n",
      "\n",
      "DataFrame after interpolating missing values:\n",
      "    flight_no flight_name   source destination departure_time arrival_time\n",
      "0        1.0    Emirates    Delhi     Chennai            NaN        08:00\n",
      "1        2.0      Indigo   Mumbai   Bangalore          10:00          NaN\n",
      "2        2.5         NaN      NaN         NaN          12:00        14:00\n",
      "3        3.0     Vistara  Kolkata   Hyderabad          14:00        18:00\n"
     ]
    }
   ],
   "source": [
    "#Create Data frame on your Domain\n",
    "import pandas as pd\n",
    "import numpy as np\n",
    "\n",
    "# Create a dictionary with missing values\n",
    "data = {'flight_no': [1, 2, np.nan, 3],\n",
    "        'flight_name': ['Emirates', 'Indigo', np.nan, 'Vistara'],\n",
    "        'source': ['Delhi', 'Mumbai', np.nan, 'Kolkata'],\n",
    "        'destination': ['Chennai', 'Bangalore', np.nan, 'Hyderabad'],\n",
    "        'departure_time': [np.nan, '10:00', '12:00', '14:00'],\n",
    "        'arrival_time': ['08:00', np.nan, '14:00', '18:00']}\n",
    "\n",
    "# Create the DataFrame\n",
    "df = pd.DataFrame(data)\n",
    "\n",
    "# Check for missing values using isnull()\n",
    "print(\"Missing Values:\\n\", df.isnull())\n",
    "\n",
    "# Check for non-missing values using notnull()\n",
    "print(\"\\nNon-Missing Values:\\n\", df.notnull())\n",
    "\n",
    "# Drop rows with missing values using dropna()\n",
    "df_dropped = df.dropna()\n",
    "print(\"\\nDataFrame after dropping rows with missing values:\\n\", df_dropped)\n",
    "\n",
    "# Fill missing values using fillna()\n",
    "df_filled = df.fillna(0)\n",
    "print(\"\\nDataFrame after filling missing values with 0:\\n\", df_filled)\n",
    "\n",
    "# Replace missing values using replace()\n",
    "df_replaced = df.replace(np.nan, -1)\n",
    "print(\"\\nDataFrame after replacing missing values with -1:\\n\", df_replaced)\n",
    "\n",
    "# Interpolate missing values using interpolate()\n",
    "df_interpolated = df.interpolate()\n",
    "print(\"\\nDataFrame after interpolating missing values:\\n\", df_interpolated)"
   ]
  },
  {
   "cell_type": "code",
   "execution_count": 16,
   "metadata": {},
   "outputs": [
    {
     "name": "stdout",
     "output_type": "stream",
     "text": [
      "                     flight_no flight_name departure_time arrival_time\n",
      "source  destination                                                   \n",
      "Delhi   Chennai            121    Emirates          10:00        08:00\n",
      "Mumbai  Bangalore          122      Indigo          12:00        14:00\n",
      "Kolkata Hyderabad          123     Vistara          14:00        18:00\n",
      "Chennai Mumbai             124   Air india          16:00        22:00\n"
     ]
    }
   ],
   "source": [
    "#Perform the Hierarchical Indexing in the above created dataset.\n",
    "import pandas as pd\n",
    "\n",
    "# Create a dictionary with data\n",
    "data = {'flight_no': [121, 122,123, 124],\n",
    "        'flight_name': ['Emirates', 'Indigo', 'Vistara', 'Air india'],\n",
    "        'source': ['Delhi', 'Mumbai', 'Kolkata', 'Chennai'],\n",
    "        'destination': ['Chennai', 'Bangalore', 'Hyderabad', 'Mumbai'],\n",
    "        'departure_time': ['10:00', '12:00', '14:00', '16:00'],\n",
    "        'arrival_time': ['08:00', '14:00', '18:00', '22:00']}\n",
    "\n",
    "# Create the DataFrame\n",
    "df = pd.DataFrame(data)\n",
    "\n",
    "# Set hierarchical index\n",
    "df.set_index(['source', 'destination'], inplace=True)\n",
    "\n",
    "# Print the DataFrame\n",
    "print(df)"
   ]
  }
 ],
 "metadata": {
  "kernelspec": {
   "display_name": "Python 3",
   "language": "python",
   "name": "python3"
  },
  "language_info": {
   "codemirror_mode": {
    "name": "ipython",
    "version": 3
   },
   "file_extension": ".py",
   "mimetype": "text/x-python",
   "name": "python",
   "nbconvert_exporter": "python",
   "pygments_lexer": "ipython3",
   "version": "3.11.4"
  },
  "orig_nbformat": 4
 },
 "nbformat": 4,
 "nbformat_minor": 2
}
